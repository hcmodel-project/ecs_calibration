{
 "cells": [
  {
   "cell_type": "code",
   "execution_count": 4,
   "id": "9784a978-b6e9-49aa-8acf-f3184908a55f",
   "metadata": {},
   "outputs": [
    {
     "name": "stdout",
     "output_type": "stream",
     "text": [
      "Requirement already satisfied: lasio in d:\\usuarios\\ezurita\\appdata\\local\\programs\\python\\python310\\lib\\site-packages (0.31)\n",
      "Requirement already satisfied: numpy in d:\\usuarios\\ezurita\\appdata\\local\\programs\\python\\python310\\lib\\site-packages (from lasio) (1.23.2)\n"
     ]
    }
   ],
   "source": [
    "!pip install lasio\n",
    "# cahuil 2 Tramo 8.5"
   ]
  },
  {
   "cell_type": "code",
   "execution_count": 6,
   "id": "58747f1d-bd92-4e04-9881-c1eff2ec3fc0",
   "metadata": {},
   "outputs": [
    {
     "name": "stdout",
     "output_type": "stream",
     "text": [
      "Curvas disponibles en el archivo LAS: ['DEPT', 'BS', 'DWAL_WALK2', 'DWCA_WALK2', 'DWFE_WALK2', 'DWGD_WALK2', 'DWHY_WALK2', 'DWSI_WALK2', 'DWSU_WALK2', 'DWTI_WALK2', 'DXFE_WALK2', 'GR_EDTC', 'WANH_WALK2', 'WCAR_WALK2', 'WCLA_WALK2', 'WCOA_WALK2', 'WEVA_WALK2', 'WPYR_WALK2', 'WQFM_WALK2', 'WSID_WALK2']\n",
      "Valores de la curva: [2746.4004 2746.5528 2746.7052 ... 2975.3052 2975.4576 2975.61  ]\n"
     ]
    }
   ],
   "source": [
    "import lasio\n",
    "import os\n",
    "import numpy as np\n",
    "import pandas as pd\n",
    "# Especifica la ruta de tu archivo .las\n",
    "#ruta_archivo = 'C:/Users/bryan/Desktop/U 2024/memoria/ArchivosECS/datos_archivo/Cah-2/4ta_Carrera_CMR-ECS-GR_Etapa8.5/ASCII/Enap - Cahuil 2 (Ex-D) - Tramo Principal ECS.las'\n",
    "ruta_archivo=\"../DatosPozoGenerales/datos_archivo/Cahuil-2/4ta Carrera CMR-ECS-GR_Etapa8.5/ASCII/Enap - Cahuil 2 (Ex-D) - Tramo Principal ECS.las\"\n",
    "# Lee el archivo LAS\n",
    "archivo_las = lasio.read(ruta_archivo)\n",
    "\n",
    "# Muestra las curvas disponibles en el archivo\n",
    "print(\"Curvas disponibles en el archivo LAS:\", archivo_las.keys())\n",
    "\n",
    "# Accede a la profundidad\n",
    "Profundidad = archivo_las['DEPT']\n",
    "\n",
    "# Imprime los valores de profundidad\n",
    "print(\"Valores de la curva:\", Profundidad)\n"
   ]
  },
  {
   "cell_type": "code",
   "execution_count": null,
   "id": "6332f61a",
   "metadata": {},
   "outputs": [],
   "source": []
  },
  {
   "cell_type": "code",
   "execution_count": 7,
   "id": "ce96fdeb-1527-4c2f-9b50-3a1964c4cadd",
   "metadata": {},
   "outputs": [],
   "source": [
    "#Accede a los valores de peso seco de los distintos elementos\n",
    "Al = archivo_las['DWAL_WALK2']\n",
    "Ca = archivo_las['DWCA_WALK2']\n",
    "Fe = archivo_las['DWFE_WALK2']\n",
    "Gd = archivo_las['DWGD_WALK2']\n",
    "H = archivo_las['DWHY_WALK2']\n",
    "Si = archivo_las['DWSI_WALK2']\n",
    "Su = archivo_las['DWSU_WALK2']\n",
    "Ti = archivo_las['DWTI_WALK2']"
   ]
  },
  {
   "cell_type": "code",
   "execution_count": 8,
   "id": "2c3d27b7-3ce8-4e35-b373-22d3abe3b87a",
   "metadata": {},
   "outputs": [],
   "source": [
    "# Crea un DataFrame de pandas con las curvas y la profundidad\n",
    "df = pd.DataFrame({\n",
    "    'Profundidad': Profundidad,\n",
    "    'Al_ECS': Al,\n",
    "    'Ca_ECS': Ca,\n",
    "    'Fe_ECS': Fe,\n",
    "    'Gd_ECS': Gd,\n",
    "    'H_ECS': H,\n",
    "    'Si_ECS': Si,\n",
    "    'Su_ECS': Su,\n",
    "    'Ti_ECS': Ti\n",
    "})"
   ]
  },
  {
   "cell_type": "code",
   "execution_count": 9,
   "id": "4a83467c-bb4a-4ba3-a1ea-cb23daf47ad1",
   "metadata": {},
   "outputs": [
    {
     "name": "stdout",
     "output_type": "stream",
     "text": [
      "      Profundidad  Al_ECS  Ca_ECS  Fe_ECS  Gd_ECS   H_ECS  Si_ECS  Su_ECS  \\\n",
      "0       2746.4004  0.0900  0.0482  0.0523  1.8177  0.0005  0.2519  0.0121   \n",
      "1       2746.5528  0.0900  0.0482  0.0523  1.8177  0.0005  0.2519  0.0121   \n",
      "2       2746.7052  0.0900  0.0482  0.0523  1.8177  0.0005  0.2519  0.0121   \n",
      "3       2746.8576  0.0900  0.0482  0.0523  1.8177  0.0005  0.2519  0.0121   \n",
      "4       2747.0100  0.0900  0.0482  0.0523  1.8177  0.0005  0.2519  0.0121   \n",
      "...           ...     ...     ...     ...     ...     ...     ...     ...   \n",
      "1500    2975.0004  0.0889  0.0000  0.0526  3.9320  0.0001  0.3091  0.0056   \n",
      "1501    2975.1528  0.0889  0.0000  0.0526  3.9320  0.0001  0.3091  0.0056   \n",
      "1502    2975.3052  0.0889  0.0000  0.0526  3.9320  0.0001  0.3091  0.0056   \n",
      "1503    2975.4576  0.0889  0.0000  0.0526  3.9320  0.0001  0.3091  0.0056   \n",
      "1504    2975.6100  0.0889  0.0000  0.0526  3.9320  0.0001  0.3091  0.0056   \n",
      "\n",
      "      Ti_ECS  \n",
      "0     0.0025  \n",
      "1     0.0025  \n",
      "2     0.0025  \n",
      "3     0.0025  \n",
      "4     0.0025  \n",
      "...      ...  \n",
      "1500  0.0041  \n",
      "1501  0.0041  \n",
      "1502  0.0041  \n",
      "1503  0.0041  \n",
      "1504  0.0041  \n",
      "\n",
      "[1505 rows x 9 columns]\n"
     ]
    }
   ],
   "source": [
    "# Muestra el DataFrame\n",
    "print(df)"
   ]
  },
  {
   "cell_type": "code",
   "execution_count": null,
   "id": "c386266d-b685-43a2-a240-40c683ffe8b1",
   "metadata": {},
   "outputs": [],
   "source": [
    "# Lista de columnas para calcular la media móvil\n",
    "columnas = ['Al_ECS', 'Ca_ECS', 'Fe_ECS', 'Gd_ECS', 'H_ECS', 'Si_ECS', 'Su_ECS', 'Ti_ECS']\n",
    "\n",
    "# Ventana de la media móvil\n",
    "ventana = 30  \n",
    "\n",
    "# Calcular la media móvil para cada columna y agregarlas como nuevas columnas al DataFrame\n",
    "for columna in columnas:\n",
    "    nombre_nueva_columna = f'{columna}_mm_{ventana}'\n",
    "    df[nombre_nueva_columna] = df[columna].rolling(window=ventana, min_periods=1).mean()"
   ]
  },
  {
   "cell_type": "code",
   "execution_count": null,
   "id": "06becfc2-3287-45f8-87f5-4d9afedc713a",
   "metadata": {},
   "outputs": [],
   "source": [
    "# Lista de columnas para calcular la media móvil\n",
    "columnas = ['Al_ECS', 'Ca_ECS', 'Fe_ECS', 'Gd_ECS', 'H_ECS', 'Si_ECS', 'Su_ECS', 'Ti_ECS']\n",
    "\n",
    "# Ventana de la media móvil\n",
    "ventana = 50  \n",
    "\n",
    "# Calcular la media móvil para cada columna y agregarlas como nuevas columnas al DataFrame\n",
    "for columna in columnas:\n",
    "    nombre_nueva_columna = f'{columna}_mm_{ventana}'\n",
    "    df[nombre_nueva_columna] = df[columna].rolling(window=ventana, min_periods=1).mean()"
   ]
  },
  {
   "cell_type": "code",
   "execution_count": null,
   "id": "8b28444a-b8e6-4d99-b9cd-2f86ac26f8b6",
   "metadata": {},
   "outputs": [],
   "source": [
    "# Lista de columnas para calcular la media móvil\n",
    "columnas = ['Al_ECS', 'Ca_ECS', 'Fe_ECS', 'Gd_ECS', 'H_ECS', 'Si_ECS', 'Su_ECS', 'Ti_ECS']\n",
    "\n",
    "# Ventana de la media móvil\n",
    "ventana = 100  \n",
    "\n",
    "# Calcular la media móvil para cada columna y agregarlas como nuevas columnas al DataFrame\n",
    "for columna in columnas:\n",
    "    nombre_nueva_columna = f'{columna}_mm_{ventana}'\n",
    "    df[nombre_nueva_columna] = df[columna].rolling(window=ventana, min_periods=1).mean()"
   ]
  },
  {
   "cell_type": "code",
   "execution_count": null,
   "id": "7d15f66c-de7d-4dea-b1c4-2e4fd3e80cc3",
   "metadata": {},
   "outputs": [],
   "source": [
    "print(df)"
   ]
  },
  {
   "cell_type": "code",
   "execution_count": null,
   "id": "2f1406fb-9bf9-4938-9e83-87bca396b2f2",
   "metadata": {},
   "outputs": [],
   "source": [
    "#Agrega los datos de FRX del archivo Excel\n",
    "# Lee los datos del archivo Excel de fluorescencia de rayos X (FRX)\n",
    "ruta_excel_frx = 'C:/Users/bryan/Desktop/U 2024/memoria/FRX_corregidos.xlsx' \n",
    "df_frx = pd.read_excel(ruta_excel_frx)\n",
    "\n",
    "# Asegura que la columna de profundidad tenga el mismo nombre que en el archivo LAS\n",
    "df_frx.rename(columns={'Depth': 'Profundidad'}, inplace=True)"
   ]
  },
  {
   "cell_type": "code",
   "execution_count": null,
   "id": "5a8e7bd2-335e-4ae9-a9a8-7d4595431195",
   "metadata": {},
   "outputs": [],
   "source": [
    "# Fusiona los datos con el DataFrame creado a partir del archivo LAS\n",
    "df_final = pd.merge(df, df_frx, on='Profundidad', how='outer')"
   ]
  },
  {
   "cell_type": "code",
   "execution_count": null,
   "id": "42416a8a-1660-4ed8-8755-d47c0e66a0a1",
   "metadata": {},
   "outputs": [],
   "source": [
    "# Ordena el DataFrame final por la columna de profundidad\n",
    "df_final.sort_values(by='Profundidad', inplace=True)"
   ]
  },
  {
   "cell_type": "code",
   "execution_count": null,
   "id": "264a910f-e17d-4f9a-948f-864ed44c39e3",
   "metadata": {},
   "outputs": [],
   "source": [
    "# Muestra el DataFrame final\n",
    "print(df_final)"
   ]
  },
  {
   "cell_type": "code",
   "execution_count": null,
   "id": "b7cac701-d008-426e-92a9-95b0f8260773",
   "metadata": {},
   "outputs": [],
   "source": [
    "# Crear un nuevo dataframe con las columnas especificadas de FRX (para tener las profundidades en las que hayan datos de FRX)\n",
    "df_FRX = df_frx.loc[:, ['Profundidad', 'SiO2', 'Al2O3', 'Fe2O3', 'CaO', 'K2O', 'S', 'TiO2']]\n",
    "\n",
    "# Mostrar el nuevo dataframe\n",
    "print(df_FRX)"
   ]
  },
  {
   "cell_type": "code",
   "execution_count": null,
   "id": "868af957-8467-47bd-a7ef-beba000c7388",
   "metadata": {},
   "outputs": [],
   "source": [
    "# Ordenar ambos dataframes por la columna 'Profundidad'\n",
    "df_FRX_sorted = df_FRX.sort_values('Profundidad')\n",
    "df_sorted = df.sort_values('Profundidad')"
   ]
  },
  {
   "cell_type": "code",
   "execution_count": null,
   "id": "c457bac1-2134-4063-9c55-10a80d285d49",
   "metadata": {},
   "outputs": [],
   "source": [
    "# Fusionar los dataframes basándose en las profundidades más cercanas (Para que sean comparables para los cross plots)(Deja a ambos datos como puntos)\n",
    "merged_df = pd.merge_asof(df_FRX_sorted, df_sorted, on='Profundidad', direction='nearest')\n",
    "\n",
    "# Mostrar el dataframe resultante\n",
    "print(merged_df)"
   ]
  },
  {
   "cell_type": "code",
   "execution_count": null,
   "id": "b829cb6b-ba6c-4fe0-8514-d466f09a4e12",
   "metadata": {},
   "outputs": [],
   "source": [
    "#Para crear cros plots de Al normal\n",
    "import matplotlib.pyplot as plt\n",
    "\n",
    "# Obtener los datos de Al2O3 y Al del dataframe\n",
    "Al2O3 = merged_df['Al2O3']\n",
    "Al = merged_df['Al_ECS']\n",
    "\n",
    "# Crear el scatter plot\n",
    "plt.figure(figsize=(8, 6))\n",
    "plt.scatter(Al2O3, Al, c=merged_df['Profundidad'], alpha=0.5)  # Definir el color y la transparencia de los puntos\n",
    "plt.title('Relación entre Al2O3 y Al')\n",
    "plt.xlabel('Al2O3')\n",
    "plt.ylabel('Al_ECS')\n",
    "plt.grid(True)  # Agregar una cuadrícula al gráfico\n",
    "\n",
    "# Guardar el gráfico en la carpeta especificada\n",
    "#carpeta_guardado = \"C:/Users/bryan/Desktop/U 2024/memoria/Graficos para presentación/CrossPlots reales\"\n",
    "#nombre_archivo = \"cross_plot_Al.png\"  \n",
    "#ruta_guardado = os.path.join(carpeta_guardado, nombre_archivo)\n",
    "#plt.savefig(ruta_guardado)\n",
    "\n",
    "plt.show()"
   ]
  },
  {
   "cell_type": "code",
   "execution_count": null,
   "id": "670b1a13-2bc0-4b55-bfe6-c93c1921cfb5",
   "metadata": {},
   "outputs": [],
   "source": [
    "#Para crear cros plots de Al media movil 30\n",
    "import matplotlib.pyplot as plt\n",
    "\n",
    "# Obtener los datos de Al2O3 y Al del dataframe\n",
    "Al2O3 = merged_df['Al2O3']\n",
    "Al = merged_df['Al_ECS_mm_30']\n",
    "\n",
    "# Crear el scatter plot\n",
    "plt.figure(figsize=(8, 6))\n",
    "plt.scatter(Al2O3, Al, c=merged_df['Profundidad'], alpha=0.5)  # Definir el color y la transparencia de los puntos\n",
    "plt.title('Relación entre Al2O3 y Al')\n",
    "plt.xlabel('Al2O3')\n",
    "plt.ylabel('Al_ECS_mm_30')\n",
    "plt.grid(True)  # Agregar una cuadrícula al gráfico\n",
    "\n",
    "# Guardar el gráfico en la carpeta especificada\n",
    "#carpeta_guardado = \"C:/Users/bryan/Desktop/U 2024/memoria/Graficos para presentación/CrossPlots reales\"\n",
    "#nombre_archivo = \"cross_plot_Al.png\"  \n",
    "#ruta_guardado = os.path.join(carpeta_guardado, nombre_archivo)\n",
    "#plt.savefig(ruta_guardado)\n",
    "\n",
    "plt.show()"
   ]
  },
  {
   "cell_type": "code",
   "execution_count": null,
   "id": "514aa9f3-427d-49d9-87a9-af7895192da7",
   "metadata": {},
   "outputs": [],
   "source": [
    "#Para crear cros plots de Al media movil 50\n",
    "import matplotlib.pyplot as plt\n",
    "\n",
    "# Obtener los datos de Al2O3 y Al del dataframe\n",
    "Al2O3 = merged_df['Al2O3']\n",
    "Al = merged_df['Al_ECS_mm_50']\n",
    "\n",
    "# Crear el scatter plot\n",
    "plt.figure(figsize=(8, 6))\n",
    "plt.scatter(Al2O3, Al, c=merged_df['Profundidad'], alpha=0.5)  # Definir el color y la transparencia de los puntos\n",
    "plt.title('Relación entre Al2O3 y Al')\n",
    "plt.xlabel('Al2O3')\n",
    "plt.ylabel('Al_ECS_mm_50')\n",
    "plt.grid(True)  # Agregar una cuadrícula al gráfico\n",
    "\n",
    "# Guardar el gráfico en la carpeta especificada\n",
    "#carpeta_guardado = \"C:/Users/bryan/Desktop/U 2024/memoria/Graficos para presentación/CrossPlots reales\"\n",
    "#nombre_archivo = \"cross_plot_Al.png\"  \n",
    "#ruta_guardado = os.path.join(carpeta_guardado, nombre_archivo)\n",
    "#plt.savefig(ruta_guardado)\n",
    "\n",
    "plt.show()"
   ]
  },
  {
   "cell_type": "code",
   "execution_count": null,
   "id": "4e76f5a5-433f-44d6-b69c-544f71ac6a1f",
   "metadata": {},
   "outputs": [],
   "source": [
    "#Para crear cros plots de Al media movil 100\n",
    "import matplotlib.pyplot as plt\n",
    "\n",
    "# Obtener los datos de Al2O3 y Al del dataframe\n",
    "Al2O3 = merged_df['Al2O3']\n",
    "Al = merged_df['Al_ECS_mm_100']\n",
    "\n",
    "# Crear el scatter plot\n",
    "plt.figure(figsize=(8, 6))\n",
    "plt.scatter(Al2O3, Al, c=merged_df['Profundidad'], alpha=0.5)  # Definir el color y la transparencia de los puntos\n",
    "plt.title('Relación entre Al2O3 y Al')\n",
    "plt.xlabel('Al2O3')\n",
    "plt.ylabel('Al_ECS_mm_100')\n",
    "plt.grid(True)  # Agregar una cuadrícula al gráfico\n",
    "\n",
    "# Guardar el gráfico en la carpeta especificada\n",
    "#carpeta_guardado = \"C:/Users/bryan/Desktop/U 2024/memoria/Graficos para presentación/CrossPlots reales\"\n",
    "#nombre_archivo = \"cross_plot_Al.png\"  \n",
    "#ruta_guardado = os.path.join(carpeta_guardado, nombre_archivo)\n",
    "#plt.savefig(ruta_guardado)\n",
    "\n",
    "plt.show()"
   ]
  },
  {
   "cell_type": "code",
   "execution_count": null,
   "id": "4a7332f7-97e7-47d3-8f0d-9d2bacc7c550",
   "metadata": {},
   "outputs": [],
   "source": [
    "#Para comparar las curvas de media movil con respecto a los datos\n",
    "import matplotlib.pyplot as plt\n",
    "\n",
    "# Seleccionar datos de profundidad en el rango especificado (2900 a 2935)\n",
    "df_subset = df_final[(df_final['Profundidad'] >= 2903) & (df_final['Profundidad'] <= 2935)]\n",
    "\n",
    "# Datos de ejemplo (reemplaza estos datos con los datos reales de tu DataFrame)\n",
    "profundidad = df_subset['Profundidad']\n",
    "concentracion_al_ecs = df_subset['Al_ECS']\n",
    "concentracion_al2o3_frx = df_subset['Al2O3']\n",
    "\n",
    "# Crear figura y ejes\n",
    "fig, ax1 = plt.subplots(figsize=(4, 12))\n",
    "\n",
    "# Graficar concentración de Al2O3 obtenida por FRX en el primer eje\n",
    "color = 'tab:blue'\n",
    "ax1.set_xlabel('Concentración Al (FRX)', color=color)\n",
    "ax1.set_ylabel('Profundidad', color='black')  # Cambiado a Profundidad\n",
    "ax1.scatter(concentracion_al2o3_frx, profundidad, color=color)  # Graficar como puntos\n",
    "ax1.invert_yaxis()\n",
    "ax1.tick_params(axis='x', labelcolor=color)\n",
    "\n",
    "# Crear un segundo eje x y graficar concentración de Al obtenida por ECS en él\n",
    "ax2 = ax1.twiny()  \n",
    "color = 'tab:red'\n",
    "ax2.set_xlabel('Concentración Al (ECS)', color=color)\n",
    "ax2.plot(concentracion_al_ecs, profundidad, color=color)  # Graficar como línea\n",
    "ax2.invert_yaxis()\n",
    "ax2.tick_params(axis='x', labelcolor=color)\n",
    "\n",
    "# Guardar el gráfico en la carpeta especificada\n",
    "carpeta_guardado = \"C:/Users/bryan/Desktop/U 2024/memoria/Graficos para presentación/comparacion\"\n",
    "nombre_archivo = \"Al.png\"  # Nombre del archivo con el nombre del elemento\n",
    "ruta_guardado = os.path.join(carpeta_guardado, nombre_archivo)\n",
    "plt.savefig(ruta_guardado)\n",
    "\n",
    "# Ajustar y mostrar el gráfico\n",
    "fig.tight_layout()  \n",
    "\n",
    "plt.show()"
   ]
  },
  {
   "cell_type": "code",
   "execution_count": null,
   "id": "7a0ebce9-26b0-4342-9485-d5730de9b9a4",
   "metadata": {},
   "outputs": [],
   "source": [
    "import matplotlib.pyplot as plt\n",
    "\n",
    "# Seleccionar datos de profundidad en el rango especificado (2900 a 2935)\n",
    "df_subset = df_final[(df_final['Profundidad'] >= 2903) & (df_final['Profundidad'] <= 2935)]\n",
    "\n",
    "# Datos de ejemplo (reemplaza estos datos con los datos reales de tu DataFrame)\n",
    "profundidad = df_subset['Profundidad']\n",
    "concentracion_al_ecs = df_subset['Al_ECS_mm_30']\n",
    "concentracion_al2o3_frx = df_subset['Al2O3']\n",
    "\n",
    "# Crear figura y ejes\n",
    "fig, ax1 = plt.subplots(figsize=(4, 12))\n",
    "\n",
    "# Graficar concentración de Al2O3 obtenida por FRX en el primer eje\n",
    "color = 'tab:blue'\n",
    "ax1.set_xlabel('Concentración Al (FRX)', color=color)\n",
    "ax1.set_ylabel('Profundidad', color='black')  # Cambiado a Profundidad\n",
    "ax1.scatter(concentracion_al2o3_frx, profundidad, color=color)  # Graficar como puntos\n",
    "ax1.invert_yaxis()\n",
    "ax1.tick_params(axis='x', labelcolor=color)\n",
    "\n",
    "# Crear un segundo eje x y graficar concentración de Al obtenida por ECS en él\n",
    "ax2 = ax1.twiny()  \n",
    "color = 'tab:red'\n",
    "ax2.set_xlabel('Concentración Al_30 (ECS)', color=color)\n",
    "ax2.plot(concentracion_al_ecs, profundidad, color=color)  # Graficar como línea\n",
    "ax2.invert_yaxis()\n",
    "ax2.tick_params(axis='x', labelcolor=color)\n",
    "\n",
    "# Guardar el gráfico en la carpeta especificada\n",
    "carpeta_guardado = \"C:/Users/bryan/Desktop/U 2024/memoria/Graficos para presentación/comparacion\"\n",
    "nombre_archivo = \"Al30.png\"  # Nombre del archivo con el nombre del elemento\n",
    "ruta_guardado = os.path.join(carpeta_guardado, nombre_archivo)\n",
    "plt.savefig(ruta_guardado)\n",
    "\n",
    "# Ajustar y mostrar el gráfico\n",
    "fig.tight_layout()  \n",
    "\n",
    "plt.show()"
   ]
  },
  {
   "cell_type": "code",
   "execution_count": null,
   "id": "905834c3-c96f-406f-ac90-90f676a6f64b",
   "metadata": {},
   "outputs": [],
   "source": [
    "import matplotlib.pyplot as plt\n",
    "\n",
    "# Seleccionar datos de profundidad en el rango especificado (2900 a 2935)\n",
    "df_subset = df_final[(df_final['Profundidad'] >= 2903) & (df_final['Profundidad'] <= 2935)]\n",
    "\n",
    "# Datos de ejemplo (reemplaza estos datos con los datos reales de tu DataFrame)\n",
    "profundidad = df_subset['Profundidad']\n",
    "concentracion_al_ecs = df_subset['Al_ECS_mm_50']\n",
    "concentracion_al2o3_frx = df_subset['Al2O3']\n",
    "\n",
    "# Crear figura y ejes\n",
    "fig, ax1 = plt.subplots(figsize=(4, 12))\n",
    "\n",
    "# Graficar concentración de Al2O3 obtenida por FRX en el primer eje\n",
    "color = 'tab:blue'\n",
    "ax1.set_xlabel('Concentración Al (FRX)', color=color)\n",
    "ax1.set_ylabel('Profundidad', color='black')  # Cambiado a Profundidad\n",
    "ax1.scatter(concentracion_al2o3_frx, profundidad, color=color)  # Graficar como puntos\n",
    "ax1.invert_yaxis()\n",
    "ax1.tick_params(axis='x', labelcolor=color)\n",
    "\n",
    "# Crear un segundo eje x y graficar concentración de Al obtenida por ECS en él\n",
    "ax2 = ax1.twiny()  \n",
    "color = 'tab:red'\n",
    "ax2.set_xlabel('Concentración Al_50 (ECS)', color=color)\n",
    "ax2.plot(concentracion_al_ecs, profundidad, color=color)  # Graficar como línea\n",
    "ax2.invert_yaxis()\n",
    "ax2.tick_params(axis='x', labelcolor=color)\n",
    "\n",
    "# Guardar el gráfico en la carpeta especificada\n",
    "carpeta_guardado = \"C:/Users/bryan/Desktop/U 2024/memoria/Graficos para presentación/comparacion\"\n",
    "nombre_archivo = \"Al50.png\"  # Nombre del archivo con el nombre del elemento\n",
    "ruta_guardado = os.path.join(carpeta_guardado, nombre_archivo)\n",
    "plt.savefig(ruta_guardado)\n",
    "\n",
    "# Ajustar y mostrar el gráfico\n",
    "fig.tight_layout()  \n",
    "\n",
    "plt.show()"
   ]
  },
  {
   "cell_type": "code",
   "execution_count": null,
   "id": "4d018854-30c4-4f18-bd97-0bf18917b03b",
   "metadata": {},
   "outputs": [],
   "source": []
  }
 ],
 "metadata": {
  "kernelspec": {
   "display_name": "Python 3 (ipykernel)",
   "language": "python",
   "name": "python3"
  },
  "language_info": {
   "codemirror_mode": {
    "name": "ipython",
    "version": 3
   },
   "file_extension": ".py",
   "mimetype": "text/x-python",
   "name": "python",
   "nbconvert_exporter": "python",
   "pygments_lexer": "ipython3",
   "version": "3.10.5"
  }
 },
 "nbformat": 4,
 "nbformat_minor": 5
}
